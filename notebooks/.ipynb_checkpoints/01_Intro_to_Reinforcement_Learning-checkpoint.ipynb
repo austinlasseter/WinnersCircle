{
 "cells": [
  {
   "cell_type": "markdown",
   "metadata": {},
   "source": [
    "<img align=\"left\" src=\"https://raw.githubusercontent.com/sokjc/WinnersCircle/master/assets/WinnersCircle-small-icononly.png\" width=200 />\n",
    "## Winner's Circle: RL Workshop\n",
    "\n",
    "# Part 01: Introduction to Reinforcement Learning\n",
    "\n",
    "You remember AlphaGo? - Reinforcement Learning\n",
    "Self driving cars - Reinforcement Learning\n",
    "\n",
    "On the quest for Artificial General Intelligence, Reinforcement Learning (RL) has proven itself an essential technique. The breakthroughs with RL keep coming everyday. "
   ]
  },
  {
   "cell_type": "code",
   "execution_count": 11,
   "metadata": {},
   "outputs": [
    {
     "data": {
      "text/html": [
       "<iframe width=\"560\" height=\"315\" src=\"https://www.youtube.com/embed/jwSbzNHGflM\" frameborder=\"0\" allow=\"accelerometer; autoplay; encrypted-media; gyroscope; picture-in-picture\" allowfullscreen></iframe>"
      ],
      "text/plain": [
       "<IPython.core.display.HTML object>"
      ]
     },
     "execution_count": 11,
     "metadata": {},
     "output_type": "execute_result"
    }
   ],
   "source": [
    "from IPython.display import HTML\n",
    "HTML('''<iframe width=\"560\" height=\"315\" src=\"https://www.youtube.com/embed/jwSbzNHGflM\" frameborder=\"0\" allow=\"accelerometer; autoplay; encrypted-media; gyroscope; picture-in-picture\" allowfullscreen></iframe>''')"
   ]
  },
  {
   "cell_type": "code",
   "execution_count": 14,
   "metadata": {},
   "outputs": [
    {
     "data": {
      "text/html": [
       "<iframe width=\"560\" height=\"315\" src=\"https://www.youtube.com/embed/WXHFqTvfFSw\" frameborder=\"0\" allow=\"accelerometer; autoplay; encrypted-media; gyroscope; picture-in-picture\" allowfullscreen></iframe>"
      ],
      "text/plain": [
       "<IPython.core.display.HTML object>"
      ]
     },
     "execution_count": 14,
     "metadata": {},
     "output_type": "execute_result"
    }
   ],
   "source": [
    "HTML('''<iframe width=\"560\" height=\"315\" src=\"https://www.youtube.com/embed/WXHFqTvfFSw\" frameborder=\"0\" allow=\"accelerometer; autoplay; encrypted-media; gyroscope; picture-in-picture\" allowfullscreen></iframe>''')"
   ]
  },
  {
   "cell_type": "markdown",
   "metadata": {},
   "source": [
    "## But, what is it??\n",
    "\n",
    ">In a nutshell, RL is the study of **agents** and how they learn by trial and error. It formalizes the idea that rewarding or punishing an agent for its behavior makes it more likely to repeat or forego that behavior in the future. - *OpenAI*\n",
    "\n",
    "![](https://spinningup.openai.com/en/latest/_images/rl_diagram_transparent_bg.png)\n",
    "\n",
    "### Key Definitions\n",
    "* *Agent*: The thing doing things in an environment\n",
    "* *Environment*: The world that the agents lives in and interacts with\n",
    "* *Reward*: the agent's perception on how good or bad the world's current state\n",
    "* *Return*: Cumulative reward - the agent's goal is to maximize this. \n",
    "* *State*: complete description of the state of the world.\n",
    "* *Observation*: Partial description of a state which may omit information\n",
    "* *Action Space*: the set of all valid actions in a given environment\n"
   ]
  },
  {
   "cell_type": "markdown",
   "metadata": {},
   "source": [
    "## A Taxonomy of RL Algorithms\n",
    "\n",
    "![](https://spinningup.openai.com/en/latest/_images/rl_algorithms_9_15.svg)"
   ]
  },
  {
   "cell_type": "markdown",
   "metadata": {},
   "source": [
    "## References\n",
    "\n",
    "* [Spining up in Deep RL](https://openai.com/blog/spinning-up-in-deep-rl/) by OpenAI"
   ]
  }
 ],
 "metadata": {
  "kernelspec": {
   "display_name": "MarioRL",
   "language": "python",
   "name": "mariorl"
  },
  "language_info": {
   "codemirror_mode": {
    "name": "ipython",
    "version": 3
   },
   "file_extension": ".py",
   "mimetype": "text/x-python",
   "name": "python",
   "nbconvert_exporter": "python",
   "pygments_lexer": "ipython3",
   "version": "3.7.2"
  }
 },
 "nbformat": 4,
 "nbformat_minor": 2
}
